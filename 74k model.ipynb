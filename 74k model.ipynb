{
 "cells": [
  {
   "cell_type": "code",
   "execution_count": 4,
   "metadata": {},
   "outputs": [],
   "source": [
    "import numpy as np\n",
    "import tensorflow as tf\n",
    "import matplotlib.pyplot as plt\n",
    "import os\n",
    "import cv2\n",
    "from sklearn.model_selection import train_test_split"
   ]
  },
  {
   "cell_type": "code",
   "execution_count": 78,
   "metadata": {},
   "outputs": [
    {
     "name": "stdout",
     "output_type": "stream",
     "text": [
      "10160\n",
      "10160\n"
     ]
    }
   ],
   "source": [
    "classes = 10 \n",
    "images = []\n",
    "labels = [] \n",
    "\n",
    "for i in range(0, classes):\n",
    "    imgList = os.listdir('C:/Users/hp/Downloads/Data/Data/'+str(i))\n",
    "    for j in imgList:\n",
    "        img = cv2.imread('C:/Users/hp/Downloads/Data/Data/'+str(i)+'/'+ str(j))\n",
    "        img = cv2.resize(img, (28,28) )\n",
    "        images.append(img)\n",
    "        labels.append(i)\n",
    "        \n",
    "print(len(images))\n",
    "print(len(labels))"
   ]
  },
  {
   "cell_type": "code",
   "execution_count": 79,
   "metadata": {},
   "outputs": [
    {
     "name": "stdout",
     "output_type": "stream",
     "text": [
      "(10160, 28, 28, 3)\n",
      "(10160,)\n"
     ]
    }
   ],
   "source": [
    "images = np.array(images)\n",
    "labels = np.array(labels)\n",
    "\n",
    "print(images.shape)\n",
    "print(labels.shape)"
   ]
  },
  {
   "cell_type": "code",
   "execution_count": 81,
   "metadata": {},
   "outputs": [
    {
     "data": {
      "text/plain": [
       "<matplotlib.image.AxesImage at 0x194eac00518>"
      ]
     },
     "execution_count": 81,
     "metadata": {},
     "output_type": "execute_result"
    },
    {
     "data": {
      "image/png": "[encoded data removed]",
      "text/plain": [
       "<Figure size 432x288 with 1 Axes>"
      ]
     },
     "metadata": {
      "needs_background": "light"
     },
     "output_type": "display_data"
    }
   ],
   "source": [
    "plt.imshow(images[10000])"
   ]
  },
  {
   "cell_type": "code",
   "execution_count": 82,
   "metadata": {},
   "outputs": [
    {
     "name": "stdout",
     "output_type": "stream",
     "text": [
      "(8128, 28, 28, 3)\n",
      "(2032, 28, 28, 3)\n"
     ]
    }
   ],
   "source": [
    "train_images, test_images, train_labels, test_labels = train_test_split(images, labels, test_size=0.2)\n",
    "print(train_images.shape)\n",
    "print(test_images.shape)"
   ]
  },
  {
   "cell_type": "code",
   "execution_count": 83,
   "metadata": {},
   "outputs": [],
   "source": [
    "def preProcess(img):\n",
    "    img=cv2.cvtColor(img,cv2.COLOR_BGR2GRAY)\n",
    "    img=cv2.equalizeHist(img)\n",
    "    x,img=cv2.threshold(img, 127, 255, cv2.THRESH_BINARY)\n",
    "    img=img/255\n",
    "    return img\n",
    "\n",
    "train_images = np.array(list(map(preProcess, train_images)))\n",
    "test_images = np.array(list(map(preProcess, test_images)))"
   ]
  },
  {
   "cell_type": "code",
   "execution_count": 84,
   "metadata": {},
   "outputs": [
    {
     "name": "stdout",
     "output_type": "stream",
     "text": [
      "(8128, 28, 28)\n"
     ]
    }
   ],
   "source": [
    "print(train_images.shape)"
   ]
  },
  {
   "cell_type": "code",
   "execution_count": 100,
   "metadata": {},
   "outputs": [],
   "source": [
    "train_images = train_images.reshape(train_images.shape[0], 28, 28, 1)\n",
    "test_images = test_images.reshape(test_images.shape[0], 28, 28, 1)"
   ]
  },
  {
   "cell_type": "code",
   "execution_count": 101,
   "metadata": {},
   "outputs": [
    {
     "data": {
      "text/plain": [
       "<matplotlib.image.AxesImage at 0x194eaaea128>"
      ]
     },
     "execution_count": 101,
     "metadata": {},
     "output_type": "execute_result"
    },
    {
     "data": {
      "image/png": "[encoded data removed]",
      "text/plain": [
       "<Figure size 432x288 with 1 Axes>"
      ]
     },
     "metadata": {
      "needs_background": "light"
     },
     "output_type": "display_data"
    }
   ],
   "source": [
    "plt.imshow(images[200])"
   ]
  },
  {
   "cell_type": "code",
   "execution_count": 103,
   "metadata": {},
   "outputs": [],
   "source": [
    "model = tf.keras.models.Sequential([\n",
    "                                    tf.keras.layers.Conv2D(32, (3,3), input_shape=(28, 28, 1),  activation=\"relu\"),\n",
    "                                    tf.keras.layers.MaxPooling2D(2, 2),\n",
    "                                    tf.keras.layers.Dropout(0.5),\n",
    "                                    tf.keras.layers.Conv2D(64, (3,3),  activation=\"relu\"),\n",
    "                                    tf.keras.layers.MaxPooling2D(2, 2),\n",
    "                                    tf.keras.layers.Dropout(0.5),\n",
    "                                    tf.keras.layers.Conv2D(64, (3,3),  activation=\"relu\"),\n",
    "                                    tf.keras.layers.Flatten(),\n",
    "                                    tf.keras.layers.Dense(128, activation=\"relu\"),\n",
    "                                    tf.keras.layers.Dropout(0.5),\n",
    "                                    tf.keras.layers.Dense(10,activation=tf.nn.softmax)\n",
    "])"
   ]
  },
  {
   "cell_type": "code",
   "execution_count": 110,
   "metadata": {},
   "outputs": [],
   "source": [
    "model.compile(optimizer='adam', loss='sparse_categorical_crossentropy',metrics=['accuracy'])"
   ]
  },
  {
   "cell_type": "code",
   "execution_count": 111,
   "metadata": {},
   "outputs": [],
   "source": [
    "datagen = tf.keras.preprocessing.image.ImageDataGenerator(width_shift_range=0.1,\n",
    "                             height_shift_range=0.1,\n",
    "                             zoom_range=0.2,\n",
    "                             shear_range=0.1,\n",
    "                             rotation_range=10)"
   ]
  },
  {
   "cell_type": "code",
   "execution_count": 112,
   "metadata": {},
   "outputs": [],
   "source": [
    "class myCallback(tf.keras.callbacks.Callback):\n",
    "    def on_epoch_end(self, epoch, logs={}):\n",
    "        if(logs.get('val_accuracy')>0.995):\n",
    "            print(\"\\nReached 99.5% accuracy so cancelling training!\")\n",
    "            self.model.stop_training = True"
   ]
  },
  {
   "cell_type": "code",
   "execution_count": 115,
   "metadata": {},
   "outputs": [
    {
     "name": "stdout",
     "output_type": "stream",
     "text": [
      "Train on 8128 samples, validate on 2032 samples\n",
      "Epoch 1/30\n",
      "8128/8128 [==============================] - 5s 554us/sample - loss: 0.1766 - acc: 0.9459 - val_loss: 0.0688 - val_acc: 0.9808\n",
      "Epoch 2/30\n",
      "8128/8128 [==============================] - 5s 575us/sample - loss: 0.1167 - acc: 0.9649 - val_loss: 0.0437 - val_acc: 0.9857\n",
      "Epoch 3/30\n",
      "8128/8128 [==============================] - 5s 630us/sample - loss: 0.0884 - acc: 0.9705 - val_loss: 0.0416 - val_acc: 0.9857\n",
      "Epoch 4/30\n",
      "8128/8128 [==============================] - 5s 566us/sample - loss: 0.0752 - acc: 0.9776 - val_loss: 0.0311 - val_acc: 0.9902\n",
      "Epoch 5/30\n",
      "8128/8128 [==============================] - 4s 548us/sample - loss: 0.0719 - acc: 0.9779 - val_loss: 0.0252 - val_acc: 0.9926\n",
      "Epoch 6/30\n",
      "8128/8128 [==============================] - 5s 580us/sample - loss: 0.0600 - acc: 0.9798 - val_loss: 0.0238 - val_acc: 0.9936\n",
      "Epoch 7/30\n",
      "8128/8128 [==============================] - 5s 561us/sample - loss: 0.0512 - acc: 0.9831 - val_loss: 0.0233 - val_acc: 0.9916\n",
      "Epoch 8/30\n",
      "8128/8128 [==============================] - 5s 567us/sample - loss: 0.0580 - acc: 0.9818 - val_loss: 0.0166 - val_acc: 0.9936\n",
      "Epoch 9/30\n",
      "8128/8128 [==============================] - 5s 562us/sample - loss: 0.0473 - acc: 0.9844 - val_loss: 0.0187 - val_acc: 0.9936\n",
      "Epoch 10/30\n",
      "8128/8128 [==============================] - 5s 586us/sample - loss: 0.0459 - acc: 0.9836 - val_loss: 0.0258 - val_acc: 0.9921\n",
      "Epoch 11/30\n",
      "8128/8128 [==============================] - 5s 593us/sample - loss: 0.0507 - acc: 0.9827 - val_loss: 0.0143 - val_acc: 0.9951\n",
      "Epoch 12/30\n",
      "8128/8128 [==============================] - 5s 623us/sample - loss: 0.0400 - acc: 0.9866 - val_loss: 0.0094 - val_acc: 0.9990\n",
      "Epoch 13/30\n",
      "8128/8128 [==============================] - 5s 601us/sample - loss: 0.0317 - acc: 0.9898 - val_loss: 0.0111 - val_acc: 0.9975\n",
      "Epoch 14/30\n",
      "8128/8128 [==============================] - 5s 603us/sample - loss: 0.0326 - acc: 0.9893 - val_loss: 0.0125 - val_acc: 0.9951\n",
      "Epoch 15/30\n",
      "8128/8128 [==============================] - 5s 597us/sample - loss: 0.0315 - acc: 0.9891 - val_loss: 0.0137 - val_acc: 0.9956\n",
      "Epoch 16/30\n",
      "8128/8128 [==============================] - 5s 611us/sample - loss: 0.0337 - acc: 0.9888 - val_loss: 0.0097 - val_acc: 0.9980\n",
      "Epoch 17/30\n",
      "8128/8128 [==============================] - 5s 606us/sample - loss: 0.0367 - acc: 0.9878 - val_loss: 0.0143 - val_acc: 0.9956\n",
      "Epoch 18/30\n",
      "8128/8128 [==============================] - 5s 660us/sample - loss: 0.0386 - acc: 0.9871 - val_loss: 0.0103 - val_acc: 0.9970\n",
      "Epoch 19/30\n",
      "8128/8128 [==============================] - 5s 646us/sample - loss: 0.0253 - acc: 0.9918 - val_loss: 0.0151 - val_acc: 0.9951\n",
      "Epoch 20/30\n",
      "8128/8128 [==============================] - 5s 606us/sample - loss: 0.0301 - acc: 0.9902 - val_loss: 0.0129 - val_acc: 0.9966\n",
      "Epoch 21/30\n",
      "8128/8128 [==============================] - 5s 577us/sample - loss: 0.0303 - acc: 0.9893 - val_loss: 0.0108 - val_acc: 0.9966\n",
      "Epoch 22/30\n",
      "8128/8128 [==============================] - 5s 631us/sample - loss: 0.0253 - acc: 0.9922 - val_loss: 0.0112 - val_acc: 0.9951\n",
      "Epoch 23/30\n",
      "8128/8128 [==============================] - 5s 571us/sample - loss: 0.0260 - acc: 0.9911 - val_loss: 0.0098 - val_acc: 0.9970\n",
      "Epoch 24/30\n",
      "8128/8128 [==============================] - 5s 554us/sample - loss: 0.0260 - acc: 0.9915 - val_loss: 0.0086 - val_acc: 0.9970\n",
      "Epoch 25/30\n",
      "8128/8128 [==============================] - 5s 674us/sample - loss: 0.0306 - acc: 0.9906 - val_loss: 0.0093 - val_acc: 0.9970\n",
      "Epoch 26/30\n",
      "8128/8128 [==============================] - 5s 589us/sample - loss: 0.0222 - acc: 0.9921 - val_loss: 0.0073 - val_acc: 0.9975\n",
      "Epoch 27/30\n",
      "8128/8128 [==============================] - 5s 625us/sample - loss: 0.0203 - acc: 0.9935 - val_loss: 0.0077 - val_acc: 0.9975\n",
      "Epoch 28/30\n",
      "8128/8128 [==============================] - 5s 634us/sample - loss: 0.0172 - acc: 0.9940 - val_loss: 0.0116 - val_acc: 0.9970\n",
      "Epoch 29/30\n",
      "8128/8128 [==============================] - 5s 607us/sample - loss: 0.0188 - acc: 0.9941 - val_loss: 0.0155 - val_acc: 0.9946\n",
      "Epoch 30/30\n",
      "8128/8128 [==============================] - 5s 575us/sample - loss: 0.0208 - acc: 0.9932 - val_loss: 0.0097 - val_acc: 0.9961\n"
     ]
    },
    {
     "data": {
      "text/plain": [
       "<tensorflow.python.keras.callbacks.History at 0x1949a116e80>"
      ]
     },
     "execution_count": 115,
     "metadata": {},
     "output_type": "execute_result"
    }
   ],
   "source": [
    "model.fit(train_images, train_labels,epochs = 30, validation_data = (test_images, test_labels))"
   ]
  },
  {
   "cell_type": "code",
   "execution_count": 116,
   "metadata": {},
   "outputs": [
    {
     "name": "stdout",
     "output_type": "stream",
     "text": [
      "2032/2032 [==============================] - 0s 148us/sample - loss: 0.0097 - acc: 0.9961\n"
     ]
    },
    {
     "data": {
      "text/plain": [
       "[0.009654637324052067, 0.996063]"
      ]
     },
     "execution_count": 116,
     "metadata": {},
     "output_type": "execute_result"
    }
   ],
   "source": [
    "model.evaluate(test_images, test_labels)"
   ]
  },
  {
   "cell_type": "code",
   "execution_count": 122,
   "metadata": {},
   "outputs": [],
   "source": [
    "model.save(\"Digit_Recognizer\")\n",
    "model.save(\"Digit_Recognizer.h5\")"
   ]
  },
  {
   "cell_type": "code",
   "execution_count": null,
   "metadata": {},
   "outputs": [],
   "source": []
  }
 ],
 "metadata": {
  "kernelspec": {
   "display_name": "Python 3",
   "language": "python",
   "name": "python3"
  },
  "language_info": {
   "codemirror_mode": {
    "name": "ipython",
    "version": 3
   },
   "file_extension": ".py",
   "mimetype": "text/x-python",
   "name": "python",
   "nbconvert_exporter": "python",
   "pygments_lexer": "ipython3",
   "version": "3.7.3"
  }
 },
 "nbformat": 4,
 "nbformat_minor": 2
}
